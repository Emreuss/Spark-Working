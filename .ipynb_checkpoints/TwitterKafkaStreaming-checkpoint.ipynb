{
 "cells": [
  {
   "cell_type": "code",
   "execution_count": 1,
   "metadata": {},
   "outputs": [],
   "source": [
    "from pyspark.sql.streaming import *\n",
    "from pyspark.sql import SparkSession\n",
    "from pyspark.sql.functions import *\n",
    "from pyspark.sql import functions as f\n",
    "from pyspark.sql.types import *\n",
    "import time\n",
    "import os"
   ]
  },
  {
   "cell_type": "code",
   "execution_count": 2,
   "metadata": {},
   "outputs": [],
   "source": [
    "os.environ[\"PYSPARK_PYTHON\"] = \"python3\"\n",
    "os.environ[\"PYSPARK_DRIVER_PYTHON\"] = \"python3\"\n",
    "os.environ[\"SPARK_HOME\"] = \"/home/emre/spark-3.0.1-bin-hadoop2.7\"\n",
    "os.environ['PYSPARK_SUBMIT_ARGS'] = '--packages org.apache.spark:spark-sql-kafka-0-10_2.12:3.0.1 pyspark-shell'"
   ]
  },
  {
   "cell_type": "code",
   "execution_count": 3,
   "metadata": {},
   "outputs": [],
   "source": [
    "spark_sql_kafka = \"/home/emre/spark-3.0.1-bin-hadoop2.7/jars/spark-sql-kafka-0-10_2.12-3.0.1.jar\"\n",
    "kafka_clients = \"/home/emre/spark-3.0.1-bin-hadoop2.7/jars/kafka-clients-2.6.0.jar\""
   ]
  },
  {
   "cell_type": "code",
   "execution_count": 4,
   "metadata": {},
   "outputs": [],
   "source": [
    "kafka_topic_name = \"derbytopic\"\n",
    "kafka_bootstrap_servers = 'localhost:9092'"
   ]
  },
  {
   "cell_type": "code",
   "execution_count": 5,
   "metadata": {},
   "outputs": [],
   "source": [
    "spark = SparkSession \\\n",
    "        .builder \\\n",
    "        .appName(\"spark-kafka2\") \\\n",
    "        .master(\"local[*]\") \\\n",
    "        .config(\"spark.jars\", spark_sql_kafka) \\\n",
    "        .config(\"spark.jars\", kafka_clients) \\\n",
    "        .config(\"spark.driver.extraClassPath\",\"/home/emre/spark-3.0.1-bin-hadoop2.7/jars/*.jar\") \\\n",
    "        .config(\"spark.executor.extraClassPath\",\"/home/emre/spark-3.0.1-bin-hadoop2.7/jars/*.jar\") \\\n",
    "        .getOrCreate()"
   ]
  },
  {
   "cell_type": "code",
   "execution_count": 6,
   "metadata": {},
   "outputs": [],
   "source": [
    " data_df = spark \\\n",
    "        .readStream \\\n",
    "        .format(\"kafka\") \\\n",
    "        .option(\"kafka.bootstrap.servers\", kafka_bootstrap_servers) \\\n",
    "        .option(\"subscribe\", kafka_topic_name) \\\n",
    "        .option(\"startingOffsets\", \"earliest\") \\\n",
    "        .load()"
   ]
  },
  {
   "cell_type": "code",
   "execution_count": 7,
   "metadata": {},
   "outputs": [],
   "source": [
    "twitter_df = data_df.selectExpr(\"CAST(value AS STRING)\")"
   ]
  },
  {
   "cell_type": "code",
   "execution_count": 8,
   "metadata": {},
   "outputs": [
    {
     "name": "stdout",
     "output_type": "stream",
     "text": [
      "+--------------------+\n",
      "|               value|\n",
      "+--------------------+\n",
      "|{\"text\":\"Abdulker...|\n",
      "|{\"text\":\"@smailSe...|\n",
      "|{\"text\":\"#Fenerba...|\n",
      "|{\"text\":\"Olsun ya...|\n",
      "|{\"text\":\"@alifuat...|\n",
      "|{\"text\":\"@AvMBoSS...|\n",
      "|{\"text\":\"RT @Just...|\n",
      "|{\"text\":\"Youtube ...|\n",
      "|{\"text\":\"RT @Cam0...|\n",
      "|{\"text\":\"RT @cEne...|\n",
      "|{\"text\":\"@yagosab...|\n",
      "|{\"text\":\"@lvntrbn...|\n",
      "|{\"text\":\"RT @Avru...|\n",
      "|{\"text\":\"Bakacak ...|\n",
      "|{\"text\":\"Ne olurs...|\n",
      "|{\"text\":\"RT @1982...|\n",
      "|{\"text\":\"RT @Tohu...|\n",
      "+--------------------+\n",
      "\n"
     ]
    }
   ],
   "source": [
    "twitter_df.show()"
   ]
  },
  {
   "cell_type": "code",
   "execution_count": 8,
   "metadata": {},
   "outputs": [],
   "source": [
    "twitter_schema = StructType() \\\n",
    "        .add(\"text\", StringType()) \\\n",
    "        .add(\"name\", StringType()) \\\n",
    "        .add(\"location\", StringType()) \\\n",
    "        .add(\"screen_name\", StringType()) \\\n",
    "        .add(\"favourites_count\", IntegerType()) \\\n",
    "        .add(\"verified\", BooleanType()) \\\n",
    "        .add(\"followers_count\",IntegerType()) \\\n",
    "        .add(\"friends_count\",IntegerType()) \\\n",
    "        .add(\"retweet_count\",IntegerType()) \\\n",
    "        .add(\"favourite_count\",IntegerType())\n",
    "        "
   ]
  },
  {
   "cell_type": "code",
   "execution_count": 9,
   "metadata": {},
   "outputs": [],
   "source": [
    "twitter_df1 = twitter_df\\\n",
    "        .select(from_json(f.col(\"value\"), twitter_schema)\\\n",
    "        .alias(\"wmt_twitter\"))"
   ]
  },
  {
   "cell_type": "code",
   "execution_count": 10,
   "metadata": {},
   "outputs": [
    {
     "name": "stdout",
     "output_type": "stream",
     "text": [
      "root\n",
      " |-- text: string (nullable = true)\n",
      " |-- name: string (nullable = true)\n",
      " |-- location: string (nullable = true)\n",
      " |-- screen_name: string (nullable = true)\n",
      " |-- favourites_count: integer (nullable = true)\n",
      " |-- verified: boolean (nullable = true)\n",
      " |-- followers_count: integer (nullable = true)\n",
      " |-- friends_count: integer (nullable = true)\n",
      " |-- retweet_count: integer (nullable = true)\n",
      " |-- favourite_count: integer (nullable = true)\n",
      "\n"
     ]
    }
   ],
   "source": [
    "twitter_df2 = twitter_df1.select(\"wmt_twitter.*\")\n",
    "twitter_df2.printSchema()"
   ]
  },
  {
   "cell_type": "code",
   "execution_count": 12,
   "metadata": {},
   "outputs": [
    {
     "name": "stdout",
     "output_type": "stream",
     "text": [
      "+--------------------+--------------------+------------------+---------------+----------------+--------+---------------+-------------+-------------+---------------+\n",
      "|                text|                name|          location|    screen_name|favourites_count|verified|followers_count|friends_count|retweet_count|favourite_count|\n",
      "+--------------------+--------------------+------------------+---------------+----------------+--------+---------------+-------------+-------------+---------------+\n",
      "|Abdulkerim Durmaz...|        Fenerbahçe +|              null|        FB_arti|             480|   false|            462|          175|            0|              0|\n",
      "|@smailSeyyar1 @al...| Mişli Gelecek Zaman|              null|       mustaphs|            1255|   false|            166|          260|            0|              0|\n",
      "|#Fenerbahce diyec...|         Berke Akgül|Güngören, İstanbul|Nostaljik_Hayat|            1245|   false|            586|          160|            0|              0|\n",
      "|        Olsun ya💛💙|               Melek|              null|     Melekglr12|            2182|   false|             20|           52|            0|              0|\n",
      "|@alifuatduatepe @...|EAGLE OF BEŞİKTAŞ 🦅|           Türkiye|      CemreGnyy|           16375|   false|           1183|          713|            0|              0|\n",
      "|@AvMBoSS Arkadaş ...|        Baris SANCAR|              null|   barissancar8|          137180|   false|           1706|         1685|            0|              0|\n",
      "|RT @Just_watch9: ...|                Asii|              null|       berfo_mm|          116087|   false|           1383|          502|            0|              0|\n",
      "|Youtube İddaabili...|        iddaabilirtv|              null|   iddaabilirim|            3289|   false|           1191|          337|            0|              0|\n",
      "|RT @Cam057Cam: Bü...|        Fatihcam5665|              null|      Cam057Cam|           46380|   false|           1179|         1547|            0|              0|\n",
      "|RT @cEnes06: @Fen...|NEWT / MD28, BAÖ5...|              null|       Newwtiee|           17489|   false|            843|          812|            0|              0|\n",
      "|@yagosabuncuoglu ...|O Z L E M Y I L H...|    Ankara, Turkey|    OzlemYilhan|           55610|   false|            557|         1053|            0|              0|\n",
      "|@lvntrbnl_1907 @a...|           Erol T 🤘|          istanbul|crystalship1907|           25193|   false|           6729|         1970|            0|              0|\n",
      "|RT @AvrupaKartali...|          Emre Kılıç|              null|  KilicEmre1903|            1748|   false|             30|          404|            0|              0|\n",
      "|Bakacak bir önümü...|               Hüsoo|              null|         Hso318|            3351|   false|            422|          581|            0|              0|\n",
      "|Ne olursa olsun h...|         Burak Aslan|         İstanbul |     YorgunSk44|            7930|   false|            200|          243|            0|              0|\n",
      "|RT @1982denBeri: ...|             emirhan|              null|        mbsAnKa|            9241|   false|             12|           75|            0|              0|\n",
      "|RT @TohumYurdanur...|       Bado¹⁹⁰⁷⭐⭐⭐⭐⭐| İstanbul, Türkiye|       tiko1052|           28450|   false|            310|          414|            0|              0|\n",
      "+--------------------+--------------------+------------------+---------------+----------------+--------+---------------+-------------+-------------+---------------+\n",
      "\n"
     ]
    }
   ],
   "source": [
    "twitter_df2.show()"
   ]
  },
  {
   "cell_type": "code",
   "execution_count": 11,
   "metadata": {},
   "outputs": [],
   "source": [
    " query = twitter_df2 \\\n",
    "       .writeStream \\\n",
    "       .trigger(processingTime='5 seconds') \\\n",
    "       .outputMode(\"update\") \\\n",
    "       .option(\"truncate\", \"false\")\\\n",
    "       .format(\"console\") \\\n",
    "       .start()"
   ]
  },
  {
   "cell_type": "code",
   "execution_count": null,
   "metadata": {},
   "outputs": [],
   "source": [
    "query.awaitTermination()"
   ]
  },
  {
   "cell_type": "code",
   "execution_count": null,
   "metadata": {},
   "outputs": [],
   "source": [
    "query.stop()"
   ]
  },
  {
   "cell_type": "code",
   "execution_count": null,
   "metadata": {},
   "outputs": [],
   "source": []
  }
 ],
 "metadata": {
  "kernelspec": {
   "display_name": "Python 3 (ipykernel)",
   "language": "python",
   "name": "python3"
  },
  "language_info": {
   "codemirror_mode": {
    "name": "ipython",
    "version": 3
   },
   "file_extension": ".py",
   "mimetype": "text/x-python",
   "name": "python",
   "nbconvert_exporter": "python",
   "pygments_lexer": "ipython3",
   "version": "3.7.6"
  }
 },
 "nbformat": 4,
 "nbformat_minor": 5
}

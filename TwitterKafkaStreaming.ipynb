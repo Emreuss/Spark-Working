{
 "cells": [
  {
   "cell_type": "code",
   "execution_count": 1,
   "metadata": {},
   "outputs": [],
   "source": [
    "from pyspark.sql.streaming import *\n",
    "from pyspark.sql import SparkSession\n",
    "from pyspark.sql.functions import *\n",
    "from pyspark.sql import functions as f\n",
    "from pyspark.sql.types import *\n",
    "import time\n",
    "import os"
   ]
  },
  {
   "cell_type": "code",
   "execution_count": 2,
   "metadata": {},
   "outputs": [],
   "source": [
    "os.environ[\"PYSPARK_PYTHON\"] = \"python3\"\n",
    "os.environ[\"PYSPARK_DRIVER_PYTHON\"] = \"python3\"\n",
    "os.environ[\"SPARK_HOME\"] = \"/home/emre/spark-3.0.1-bin-hadoop2.7\"\n",
    "os.environ['PYSPARK_SUBMIT_ARGS'] = '--packages org.apache.spark:spark-sql-kafka-0-10_2.12:3.0.1 pyspark-shell'"
   ]
  },
  {
   "cell_type": "code",
   "execution_count": 3,
   "metadata": {},
   "outputs": [],
   "source": [
    "spark_sql_kafka = \"/home/emre/spark-3.0.1-bin-hadoop2.7/jars/spark-sql-kafka-0-10_2.12-3.0.1.jar\"\n",
    "kafka_clients = \"/home/emre/spark-3.0.1-bin-hadoop2.7/jars/kafka-clients-2.6.0.jar\""
   ]
  },
  {
   "cell_type": "code",
   "execution_count": 4,
   "metadata": {},
   "outputs": [],
   "source": [
    "kafka_topic_name = \"derbytopic\"\n",
    "kafka_bootstrap_servers = 'localhost:9092'"
   ]
  },
  {
   "cell_type": "code",
   "execution_count": 5,
   "metadata": {},
   "outputs": [],
   "source": [
    "spark = SparkSession \\\n",
    "        .builder \\\n",
    "        .appName(\"spark-kafka2\") \\\n",
    "        .master(\"local[*]\") \\\n",
    "        .config(\"spark.jars\", spark_sql_kafka) \\\n",
    "        .config(\"spark.jars\", kafka_clients) \\\n",
    "        .config(\"spark.driver.extraClassPath\",\"/home/emre/spark-3.0.1-bin-hadoop2.7/jars/*.jar\") \\\n",
    "        .config(\"spark.executor.extraClassPath\",\"/home/emre/spark-3.0.1-bin-hadoop2.7/jars/*.jar\") \\\n",
    "        .getOrCreate()"
   ]
  },
  {
   "cell_type": "code",
   "execution_count": 6,
   "metadata": {},
   "outputs": [],
   "source": [
    " data_df = spark \\\n",
    "        .readStream \\\n",
    "        .format(\"kafka\") \\\n",
    "        .option(\"kafka.bootstrap.servers\", kafka_bootstrap_servers) \\\n",
    "        .option(\"subscribe\", kafka_topic_name) \\\n",
    "        .option(\"startingOffsets\", \"earliest\") \\\n",
    "        .load()"
   ]
  },
  {
   "cell_type": "code",
   "execution_count": 7,
   "metadata": {},
   "outputs": [],
   "source": [
    "twitter_df = data_df.selectExpr(\"CAST(value AS STRING)\")"
   ]
  },
  {
   "cell_type": "code",
   "execution_count": 8,
   "metadata": {},
   "outputs": [],
   "source": [
    "twitter_schema = StructType() \\\n",
    "        .add(\"text\", StringType()) \\\n",
    "        .add(\"name\", StringType()) \\\n",
    "        .add(\"location\", StringType()) \\\n",
    "        .add(\"screen_name\", StringType()) \\\n",
    "        .add(\"favourites_count\", IntegerType()) \\\n",
    "        .add(\"verified\", BooleanType()) \\\n",
    "        .add(\"followers_count\",IntegerType()) \\\n",
    "        .add(\"friends_count\",IntegerType()) \\\n",
    "        .add(\"retweet_count\",IntegerType()) \\\n",
    "        .add(\"favourite_count\",IntegerType())\n",
    "        "
   ]
  },
  {
   "cell_type": "code",
   "execution_count": 9,
   "metadata": {},
   "outputs": [],
   "source": [
    "twitter_df1 = twitter_df\\\n",
    "        .select(from_json(f.col(\"value\"), twitter_schema)\\\n",
    "        .alias(\"wmt_twitter\"))"
   ]
  },
  {
   "cell_type": "code",
   "execution_count": 10,
   "metadata": {},
   "outputs": [
    {
     "name": "stdout",
     "output_type": "stream",
     "text": [
      "root\n",
      " |-- twitter_text: string (nullable = true)\n",
      "\n"
     ]
    }
   ],
   "source": [
    "twitter_df2 = twitter_df1.select(explode(split(col(\"wmt_twitter.text\"),\" \")).alias(\"twitter_text\"))\n",
    "twitter_df2.printSchema()"
   ]
  },
  {
   "cell_type": "code",
   "execution_count": 11,
   "metadata": {},
   "outputs": [],
   "source": [
    "twitter_word_counts=twitter_df2.groupBy(\"twitter_text\") \\\n",
    ".count().sort(desc(\"count\"))"
   ]
  },
  {
   "cell_type": "code",
   "execution_count": 12,
   "metadata": {},
   "outputs": [],
   "source": [
    " query = twitter_word_counts \\\n",
    "       .writeStream \\\n",
    "       .trigger(processingTime='5 seconds') \\\n",
    "       .outputMode(\"complete\") \\\n",
    "       .option(\"truncate\", \"false\")\\\n",
    "       .format(\"console\") \\\n",
    "       .start()"
   ]
  },
  {
   "cell_type": "code",
   "execution_count": null,
   "metadata": {},
   "outputs": [],
   "source": [
    "query.awaitTermination()"
   ]
  },
  {
   "cell_type": "code",
   "execution_count": null,
   "metadata": {},
   "outputs": [],
   "source": [
    "query.stop()"
   ]
  },
  {
   "cell_type": "code",
   "execution_count": null,
   "metadata": {},
   "outputs": [],
   "source": []
  }
 ],
 "metadata": {
  "kernelspec": {
   "display_name": "Python 3 (ipykernel)",
   "language": "python",
   "name": "python3"
  },
  "language_info": {
   "codemirror_mode": {
    "name": "ipython",
    "version": 3
   },
   "file_extension": ".py",
   "mimetype": "text/x-python",
   "name": "python",
   "nbconvert_exporter": "python",
   "pygments_lexer": "ipython3",
   "version": "3.7.6"
  }
 },
 "nbformat": 4,
 "nbformat_minor": 5
}
